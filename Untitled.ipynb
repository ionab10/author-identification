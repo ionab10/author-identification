{
 "cells": [
  {
   "cell_type": "code",
   "execution_count": 1,
   "metadata": {},
   "outputs": [
    {
     "name": "stderr",
     "output_type": "stream",
     "text": [
      "/Users/ionabuchanan/anaconda/lib/python3.6/site-packages/h5py/__init__.py:34: FutureWarning: Conversion of the second argument of issubdtype from `float` to `np.floating` is deprecated. In future, it will be treated as `np.float64 == np.dtype(float).type`.\n",
      "  from ._conv import register_converters as _register_converters\n"
     ]
    }
   ],
   "source": [
    "import tensorflow as tf\n",
    "from tensorflow.examples.tutorials.mnist import input_data\n",
    "import numpy as np\n",
    "import matplotlib.pyplot as plt\n",
    "import pandas as pd\n",
    "from twython import Twython  \n",
    "import json\n",
    "from sklearn.preprocessing import OneHotEncoder\n",
    "from sklearn.feature_extraction.text import CountVectorizer\n",
    "from sklearn.model_selection import train_test_split"
   ]
  },
  {
   "cell_type": "code",
   "execution_count": 2,
   "metadata": {
    "collapsed": true
   },
   "outputs": [],
   "source": [
    "tf.set_random_seed(1)\n",
    "np.random.seed(1)"
   ]
  },
  {
   "cell_type": "code",
   "execution_count": 3,
   "metadata": {},
   "outputs": [],
   "source": [
    "enc = OneHotEncoder(handle_unknown='ignore')\n",
    "cv = CountVectorizer()"
   ]
  },
  {
   "cell_type": "code",
   "execution_count": 4,
   "metadata": {
    "collapsed": true
   },
   "outputs": [],
   "source": [
    "# Hyper Parameters\n",
    "BATCH_SIZE = 1       # rnn input size / image width\n",
    "LR = 0.01               # learning rate"
   ]
  },
  {
   "cell_type": "code",
   "execution_count": 5,
   "metadata": {},
   "outputs": [
    {
     "data": {
      "text/plain": [
       "{'contributors_enabled': False,\n",
       " 'created_at': 'Tue May 13 12:25:36 +0000 2014',\n",
       " 'default_profile': True,\n",
       " 'default_profile_image': True,\n",
       " 'description': '',\n",
       " 'entities': {'description': {'urls': []}},\n",
       " 'favourites_count': 29,\n",
       " 'follow_request_sent': False,\n",
       " 'followers_count': 17,\n",
       " 'following': False,\n",
       " 'friends_count': 69,\n",
       " 'geo_enabled': False,\n",
       " 'has_extended_profile': False,\n",
       " 'id': 2545064897,\n",
       " 'id_str': '2545064897',\n",
       " 'is_translation_enabled': False,\n",
       " 'is_translator': False,\n",
       " 'lang': 'en',\n",
       " 'listed_count': 0,\n",
       " 'location': '',\n",
       " 'name': 'Iona Buchanan',\n",
       " 'needs_phone_verification': False,\n",
       " 'notifications': False,\n",
       " 'profile_background_color': 'C0DEED',\n",
       " 'profile_background_image_url': 'http://abs.twimg.com/images/themes/theme1/bg.png',\n",
       " 'profile_background_image_url_https': 'https://abs.twimg.com/images/themes/theme1/bg.png',\n",
       " 'profile_background_tile': False,\n",
       " 'profile_image_url': 'http://abs.twimg.com/sticky/default_profile_images/default_profile_normal.png',\n",
       " 'profile_image_url_https': 'https://abs.twimg.com/sticky/default_profile_images/default_profile_normal.png',\n",
       " 'profile_link_color': '1DA1F2',\n",
       " 'profile_sidebar_border_color': 'C0DEED',\n",
       " 'profile_sidebar_fill_color': 'DDEEF6',\n",
       " 'profile_text_color': '333333',\n",
       " 'profile_use_background_image': True,\n",
       " 'protected': False,\n",
       " 'screen_name': 'Ionab10',\n",
       " 'status': {'contributors': None,\n",
       "  'coordinates': None,\n",
       "  'created_at': 'Tue Jul 05 16:31:17 +0000 2016',\n",
       "  'entities': {'hashtags': [{'indices': [49, 57], 'text': 'Someday'}],\n",
       "   'symbols': [],\n",
       "   'urls': [],\n",
       "   'user_mentions': [{'id': 17472333,\n",
       "     'id_str': '17472333',\n",
       "     'indices': [8, 24],\n",
       "     'name': 'RBC Bluesfest Ottawa',\n",
       "     'screen_name': 'ottawabluesfest'}]},\n",
       "  'favorite_count': 15,\n",
       "  'favorited': False,\n",
       "  'geo': None,\n",
       "  'id': 750366449152225280,\n",
       "  'id_str': '750366449152225280',\n",
       "  'in_reply_to_screen_name': None,\n",
       "  'in_reply_to_status_id': None,\n",
       "  'in_reply_to_status_id_str': None,\n",
       "  'in_reply_to_user_id': None,\n",
       "  'in_reply_to_user_id_str': None,\n",
       "  'is_quote_status': False,\n",
       "  'lang': 'en',\n",
       "  'place': None,\n",
       "  'retweet_count': 10,\n",
       "  'retweeted': False,\n",
       "  'source': '<a href=\"http://mobile.twitter.com\" rel=\"nofollow\">Mobile Web</a>',\n",
       "  'text': \"Rockin' @ottawabluesfest with @RBC_Canada #5990. #Someday I will\",\n",
       "  'truncated': False},\n",
       " 'statuses_count': 26,\n",
       " 'suspended': False,\n",
       " 'time_zone': None,\n",
       " 'translator_type': 'none',\n",
       " 'url': None,\n",
       " 'utc_offset': None,\n",
       " 'verified': False}"
      ]
     },
     "execution_count": 5,
     "metadata": {},
     "output_type": "execute_result"
    }
   ],
   "source": [
    "with open(\"twitter_credentials.json\", \"r\") as file:  \n",
    "    creds = json.load(file)\n",
    "    \n",
    "twitter = Twython(creds['CONSUMER_KEY'], creds['CONSUMER_SECRET'],\n",
    "                  creds['ACCESS_TOKEN'], creds['ACCESS_SECRET'])\n",
    "\n",
    "twitter.verify_credentials()"
   ]
  },
  {
   "cell_type": "code",
   "execution_count": 6,
   "metadata": {},
   "outputs": [
    {
     "name": "stdout",
     "output_type": "stream",
     "text": [
      "100\n"
     ]
    },
    {
     "data": {
      "text/html": [
       "<div>\n",
       "<style>\n",
       "    .dataframe thead tr:only-child th {\n",
       "        text-align: right;\n",
       "    }\n",
       "\n",
       "    .dataframe thead th {\n",
       "        text-align: left;\n",
       "    }\n",
       "\n",
       "    .dataframe tbody tr th {\n",
       "        vertical-align: top;\n",
       "    }\n",
       "</style>\n",
       "<table border=\"1\" class=\"dataframe\">\n",
       "  <thead>\n",
       "    <tr style=\"text-align: right;\">\n",
       "      <th></th>\n",
       "      <th>text</th>\n",
       "      <th>location</th>\n",
       "    </tr>\n",
       "  </thead>\n",
       "  <tbody>\n",
       "    <tr>\n",
       "      <th>0</th>\n",
       "      <td>RT @kamymoulay: Be spontaneous, edgy, creative...</td>\n",
       "      <td>Las Vegas</td>\n",
       "    </tr>\n",
       "    <tr>\n",
       "      <th>1</th>\n",
       "      <td>RT @Winterbourne69: Now is a great time of yea...</td>\n",
       "      <td></td>\n",
       "    </tr>\n",
       "    <tr>\n",
       "      <th>2</th>\n",
       "      <td>RT @thetiffopotamus: Hi #PortfolioDay! I'm Tif...</td>\n",
       "      <td>Florida, USA</td>\n",
       "    </tr>\n",
       "    <tr>\n",
       "      <th>3</th>\n",
       "      <td>RT @djhxtempo: **trying to prove a point 🙄**\\n...</td>\n",
       "      <td>Your Local Walmart</td>\n",
       "    </tr>\n",
       "    <tr>\n",
       "      <th>4</th>\n",
       "      <td>@PamelaA1957 What a love!\\n#adogswayhomeparty</td>\n",
       "      <td>where ever life takes me</td>\n",
       "    </tr>\n",
       "  </tbody>\n",
       "</table>\n",
       "</div>"
      ],
      "text/plain": [
       "                                                text                  location\n",
       "0  RT @kamymoulay: Be spontaneous, edgy, creative...                Las Vegas \n",
       "1  RT @Winterbourne69: Now is a great time of yea...                          \n",
       "2  RT @thetiffopotamus: Hi #PortfolioDay! I'm Tif...              Florida, USA\n",
       "3  RT @djhxtempo: **trying to prove a point 🙄**\\n...       Your Local Walmart \n",
       "4      @PamelaA1957 What a love!\\n#adogswayhomeparty  where ever life takes me"
      ]
     },
     "execution_count": 6,
     "metadata": {},
     "output_type": "execute_result"
    }
   ],
   "source": [
    "query = {'q': 'a',  \n",
    "        #'result_type': 'popular',\n",
    "        'count': 100,\n",
    "        'lang': 'en',\n",
    "        }\n",
    "\n",
    "# Search tweets\n",
    "results = twitter.search(**query)['statuses']\n",
    "#results = twitter.get(\"https://stream.twitter.com/1.1/statuses/sample.json\")['statuses']\n",
    "\n",
    "# Structure data in a pandas DataFrame for easier manipulation\n",
    "df = pd.DataFrame(results)  \n",
    "df['location'] = [x['location'] for x in df.user] \n",
    "print(len(df))\n",
    "df.loc[:,['text','location']].head(5)  "
   ]
  },
  {
   "cell_type": "code",
   "execution_count": 7,
   "metadata": {},
   "outputs": [],
   "source": [
    "X = cv.fit_transform(df.text).toarray()\n",
    "y = pd.get_dummies(df.location).values\n",
    "\n",
    "X_train,X_test,y_train,y_test = train_test_split(X,y,test_size=0.2)\n",
    "\n",
    "y_train_cls = np.array([a.argmax() for a in y_train])\n",
    "y_test_cls = np.array([a.argmax() for a in y_test])"
   ]
  },
  {
   "cell_type": "code",
   "execution_count": 8,
   "metadata": {},
   "outputs": [
    {
     "name": "stdout",
     "output_type": "stream",
     "text": [
      "100\n",
      "(80, 886)\n",
      "(80, 70)\n",
      "(80,)\n",
      "(20, 886)\n",
      "(20, 70)\n",
      "(20,)\n"
     ]
    }
   ],
   "source": [
    "# data\n",
    "print(len(df))\n",
    "print(X_train.shape) \n",
    "print(y_train.shape) \n",
    "print(y_train_cls.shape) \n",
    "print(X_test.shape) \n",
    "print(y_test.shape)  \n",
    "print(y_test_cls.shape)  "
   ]
  },
  {
   "cell_type": "code",
   "execution_count": 12,
   "metadata": {},
   "outputs": [],
   "source": [
    "num_features = X_train.shape[1]\n",
    "num_classes = y_train.shape[1]\n",
    "\n",
    "x = tf.placeholder(tf.float32, [None, num_features])\n",
    "y_true = tf.placeholder(tf.float32, [None, num_classes])\n",
    "y_true_cls = tf.placeholder(tf.int64, [None])\n",
    "\n",
    "weights = tf.Variable(tf.zeros([num_features, num_classes]))\n",
    "biases = tf.Variable(tf.zeros([num_classes]))\n",
    "\n",
    "logits = tf.matmul(x, weights) + biases\n",
    "y_pred = tf.nn.softmax(logits)\n",
    "y_pred_cls = tf.argmax(y_pred, axis=1)\n",
    "\n",
    "cross_entropy = tf.nn.softmax_cross_entropy_with_logits_v2(logits=logits,                                                          labels=y_true)\n",
    "cost = tf.reduce_mean(cross_entropy)\n",
    "\n",
    "optimizer = tf.train.GradientDescentOptimizer(learning_rate=0.5).minimize(cost)\n",
    "\n",
    "correct_prediction = tf.equal(y_pred_cls, y_true_cls)\n",
    "accuracy = tf.reduce_mean(tf.cast(correct_prediction, tf.float32))"
   ]
  },
  {
   "cell_type": "code",
   "execution_count": 13,
   "metadata": {},
   "outputs": [],
   "source": [
    "feed_dict_test = {x: X_test,\n",
    "                  y_true: y_test,\n",
    "                  y_true_cls: y_test_cls}\n",
    "\n",
    "def print_accuracy():\n",
    "    # Use TensorFlow to compute the accuracy.\n",
    "    acc = session.run(accuracy, feed_dict=feed_dict_test)\n",
    "    \n",
    "    # Print the accuracy.\n",
    "    print(\"Accuracy on test-set: {0:.1%}\".format(acc))"
   ]
  },
  {
   "cell_type": "code",
   "execution_count": 29,
   "metadata": {},
   "outputs": [
    {
     "name": "stdout",
     "output_type": "stream",
     "text": [
      "Accuracy on test-set: 0.0%\n",
      "Accuracy on test-set: 30.0%\n",
      "Accuracy on test-set: 15.0%\n",
      "Accuracy on test-set: 15.0%\n",
      "Accuracy on test-set: 15.0%\n",
      "Accuracy on test-set: 15.0%\n",
      "Accuracy on test-set: 15.0%\n",
      "Accuracy on test-set: 10.0%\n",
      "Accuracy on test-set: 10.0%\n",
      "Accuracy on test-set: 10.0%\n",
      "Accuracy on test-set: 10.0%\n",
      "Accuracy on test-set: 15.0%\n",
      "Accuracy on test-set: 15.0%\n",
      "Accuracy on test-set: 15.0%\n",
      "Accuracy on test-set: 30.0%\n",
      "Accuracy on test-set: 25.0%\n",
      "Accuracy on test-set: 25.0%\n",
      "Accuracy on test-set: 25.0%\n",
      "Accuracy on test-set: 35.0%\n",
      "Accuracy on test-set: 35.0%\n",
      "Accuracy on test-set: 35.0%\n",
      "Accuracy on test-set: 35.0%\n",
      "Accuracy on test-set: 35.0%\n",
      "Accuracy on test-set: 35.0%\n",
      "Accuracy on test-set: 35.0%\n",
      "Accuracy on test-set: 30.0%\n",
      "Accuracy on test-set: 30.0%\n",
      "Accuracy on test-set: 30.0%\n",
      "Accuracy on test-set: 30.0%\n",
      "Accuracy on test-set: 30.0%\n",
      "Accuracy on test-set: 30.0%\n",
      "Accuracy on test-set: 10.0%\n",
      "Accuracy on test-set: 10.0%\n",
      "Accuracy on test-set: 10.0%\n",
      "Accuracy on test-set: 15.0%\n",
      "Accuracy on test-set: 15.0%\n",
      "Accuracy on test-set: 25.0%\n",
      "Accuracy on test-set: 25.0%\n",
      "Accuracy on test-set: 20.0%\n",
      "Accuracy on test-set: 20.0%\n",
      "Accuracy on test-set: 20.0%\n",
      "Accuracy on test-set: 20.0%\n",
      "Accuracy on test-set: 20.0%\n",
      "Accuracy on test-set: 20.0%\n",
      "Accuracy on test-set: 25.0%\n",
      "Accuracy on test-set: 25.0%\n",
      "Accuracy on test-set: 20.0%\n",
      "Accuracy on test-set: 20.0%\n",
      "Accuracy on test-set: 15.0%\n",
      "Accuracy on test-set: 10.0%\n",
      "Accuracy on test-set: 10.0%\n",
      "Accuracy on test-set: 10.0%\n",
      "Accuracy on test-set: 10.0%\n",
      "Accuracy on test-set: 5.0%\n",
      "Accuracy on test-set: 5.0%\n",
      "Accuracy on test-set: 10.0%\n",
      "Accuracy on test-set: 25.0%\n",
      "Accuracy on test-set: 25.0%\n",
      "Accuracy on test-set: 30.0%\n",
      "Accuracy on test-set: 25.0%\n",
      "Accuracy on test-set: 25.0%\n",
      "Accuracy on test-set: 25.0%\n",
      "Accuracy on test-set: 25.0%\n",
      "Accuracy on test-set: 25.0%\n",
      "Accuracy on test-set: 25.0%\n",
      "Accuracy on test-set: 25.0%\n",
      "Accuracy on test-set: 25.0%\n",
      "Accuracy on test-set: 25.0%\n",
      "Accuracy on test-set: 25.0%\n",
      "Accuracy on test-set: 25.0%\n",
      "Accuracy on test-set: 30.0%\n",
      "Accuracy on test-set: 25.0%\n",
      "Accuracy on test-set: 25.0%\n",
      "Accuracy on test-set: 25.0%\n",
      "Accuracy on test-set: 25.0%\n",
      "Accuracy on test-set: 20.0%\n",
      "Accuracy on test-set: 25.0%\n",
      "Accuracy on test-set: 25.0%\n",
      "Accuracy on test-set: 25.0%\n",
      "Accuracy on test-set: 25.0%\n",
      "Accuracy on test-set: 25.0%\n",
      "Accuracy on test-set: 25.0%\n",
      "Accuracy on test-set: 25.0%\n",
      "Accuracy on test-set: 25.0%\n",
      "Accuracy on test-set: 25.0%\n",
      "Accuracy on test-set: 25.0%\n",
      "Accuracy on test-set: 25.0%\n",
      "Accuracy on test-set: 25.0%\n",
      "Accuracy on test-set: 25.0%\n",
      "Accuracy on test-set: 25.0%\n",
      "Accuracy on test-set: 25.0%\n",
      "Accuracy on test-set: 25.0%\n",
      "Accuracy on test-set: 25.0%\n",
      "Accuracy on test-set: 25.0%\n",
      "Accuracy on test-set: 25.0%\n",
      "Accuracy on test-set: 25.0%\n",
      "Accuracy on test-set: 25.0%\n",
      "Accuracy on test-set: 25.0%\n",
      "Accuracy on test-set: 25.0%\n",
      "Accuracy on test-set: 25.0%\n"
     ]
    }
   ],
   "source": [
    "session = tf.Session()\n",
    "session.run(tf.global_variables_initializer())\n",
    "\n",
    "def next_batch(X, y, i, batch_size):\n",
    "    return (X[batch_size*i:batch_size*(i+1)],y[batch_size*i:batch_size*(i+1)])\n",
    "\n",
    "for i in range(100):\n",
    "    \n",
    "    x_batch, y_true_batch = next_batch(X_train, y_train, i, BATCH_SIZE)\n",
    "\n",
    "    feed_dict_train = {x: x_batch,\n",
    "                           y_true: y_true_batch}\n",
    "\n",
    "    session.run(optimizer, feed_dict=feed_dict_train)\n",
    "    \n",
    "    print_accuracy()\n",
    "        \n",
    "    "
   ]
  },
  {
   "cell_type": "code",
   "execution_count": null,
   "metadata": {
    "collapsed": true
   },
   "outputs": [],
   "source": []
  }
 ],
 "metadata": {
  "kernelspec": {
   "display_name": "Python 3",
   "language": "python",
   "name": "python3"
  },
  "language_info": {
   "codemirror_mode": {
    "name": "ipython",
    "version": 3
   },
   "file_extension": ".py",
   "mimetype": "text/x-python",
   "name": "python",
   "nbconvert_exporter": "python",
   "pygments_lexer": "ipython3",
   "version": "3.6.1"
  }
 },
 "nbformat": 4,
 "nbformat_minor": 2
}
